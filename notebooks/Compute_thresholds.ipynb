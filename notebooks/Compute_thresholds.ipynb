{
 "cells": [
  {
   "cell_type": "code",
   "execution_count": 1,
   "metadata": {},
   "outputs": [
    {
     "name": "stderr",
     "output_type": "stream",
     "text": [
      "/tmp/ipykernel_3732446/366873851.py:8: MatplotlibDeprecationWarning: The seaborn styles shipped by Matplotlib are deprecated since 3.6, as they no longer correspond to the styles shipped by seaborn. However, they will remain available as 'seaborn-v0_8-<style>'. Alternatively, directly use the seaborn API instead.\n",
      "  plt.style.use([\"seaborn\"])\n"
     ]
    }
   ],
   "source": [
    "import os\n",
    "import pickle\n",
    "import numpy as np\n",
    "from scipy.signal import savgol_filter\n",
    "from kneebow.rotor import Rotor\n",
    "import matplotlib.pyplot as plt\n",
    "#plt.style.use(['science','notebook'])\n",
    "plt.style.use([\"seaborn\"])\n",
    "\n",
    "#TITLE_SIZE=48\n",
    "#TICK_SIZE=38\n",
    "#TICK_LABEL_SIZE=42\n",
    "#TEXT_SIZE=40\n",
    "TITLE_SIZE=12\n",
    "TICK_SIZE=18\n",
    "TICK_LABEL_SIZE=28\n",
    "TEXT_SIZE=30\n",
    "\n",
    "tex_fonts = {\n",
    "    # Use LaTeX to write all text\n",
    "    # \"text.usetex\": True,\n",
    "    \"font.family\": \"serif\",\n",
    "    # Use 10pt font in plots, to match 10pt font in document\n",
    "    \"axes.labelsize\": TICK_LABEL_SIZE,\n",
    "    \"font.size\": TEXT_SIZE,\n",
    "    # Make the legend/label fonts a little smaller\n",
    "    \"legend.fontsize\": TICK_SIZE,\n",
    "    \"xtick.labelsize\": TICK_SIZE,\n",
    "    \"ytick.labelsize\": TICK_SIZE, \n",
    "    \"axes.titlesize\": TITLE_SIZE\n",
    "}\n",
    "\n",
    "\n",
    "plt.rcParams.update(tex_fonts)\n",
    "from plottify import autosize\n"
   ]
  },
  {
   "cell_type": "code",
   "execution_count": 2,
   "metadata": {},
   "outputs": [],
   "source": [
    "# !pip3 install kneebow"
   ]
  },
  {
   "cell_type": "code",
   "execution_count": 3,
   "metadata": {},
   "outputs": [
    {
     "name": "stdout",
     "output_type": "stream",
     "text": [
      "/home/coppolillo/Desktop/RVAE/rvae/figures\n"
     ]
    },
    {
     "data": {
      "text/plain": [
       "['bpr_best_ensemble_delta.csv',\n",
       " 'yahoo-r3',\n",
       " 'pinterest',\n",
       " 'ml-1m',\n",
       " 'overleaf_rvae_global_low_test_results.txt',\n",
       " 'overleaf_bpr_table_test_results.txt',\n",
       " 'overleaf_bpr_global_low_test_results.txt',\n",
       " 'overleaf_rvae_heatmap_test_results.txt',\n",
       " 'amzn-ggf',\n",
       " 'rvae_best_ensemble_delta.csv',\n",
       " 'overleaf_bpr_heatmap_test_results.txt',\n",
       " 'citeulike-a',\n",
       " 'overleaf_rvae_table_test_results.txt']"
      ]
     },
     "execution_count": 3,
     "metadata": {},
     "output_type": "execute_result"
    }
   ],
   "source": [
    "base_dir = \"/home/coppolillo/Desktop/RVAE/\"\n",
    "data_dir = os.path.join(base_dir, \"data\")\n",
    "datasets = [elem for elem in os.listdir(data_dir) if not elem.startswith(\".\")]\n",
    "figures_dir = os.path.join(os.getcwd(), \"figures\")\n",
    "\n",
    "print(figures_dir)\n",
    "pdf_dir = os.path.join(figures_dir, \"pdf\")\n",
    "png_dir = os.path.join(figures_dir, \"png\")\n",
    "if not os.path.exists(figures_dir):\n",
    "    os.makedirs(figures_dir)\n",
    "if not os.path.exists(pdf_dir):\n",
    "    os.makedirs(pdf_dir)\n",
    "if not os.path.exists(png_dir):\n",
    "    os.makedirs(png_dir)\n",
    "datasets"
   ]
  },
  {
   "cell_type": "code",
   "execution_count": 4,
   "metadata": {},
   "outputs": [],
   "source": [
    "titles={\"citeulike-a\":\"Citeulike-a\", \n",
    "        \"ml-1m\": \"MovieLens-1M\",  \n",
    "         \"pinterest\":\"Pinterest\", \n",
    "        \"yahoo-r3\": \"Yahoo-r3\", \n",
    "       \"amzn-ggf\":\"Amazon-GGF\"}"
   ]
  },
  {
   "cell_type": "code",
   "execution_count": 5,
   "metadata": {},
   "outputs": [
    {
     "name": "stdout",
     "output_type": "stream",
     "text": [
      "n items: 3462\n",
      "squared root of nitems: 58.8387627334226\n"
     ]
    }
   ],
   "source": [
    "IDX=3\n",
    "# 0 1 4 6\n",
    "    \n",
    "with open(os.path.join(data_dir, datasets[IDX], \"data_bpr.pickle\"), \"rb\") as f:\n",
    "    data = pickle.load(f)\n",
    "nusers = data[\"users\"] # len(data[\"training_data\"])\n",
    "f = data[\"popularity\"] # data[\"popularity_dict\"][\"training\"]\n",
    "thresholds = data[\"thresholds\"]\n",
    "print(f\"n items: {data['items']}\")\n",
    "print(f\"squared root of nitems: {data['items']**0.5}\")\n",
    "f = list(map(lambda x:round(x*nusers) if \"ml-20m\" in datasets[IDX] else x*nusers, f))\n",
    "thresholds = list(map(lambda x:x*nusers, thresholds))\n",
    "\n"
   ]
  },
  {
   "cell_type": "code",
   "execution_count": 6,
   "metadata": {},
   "outputs": [
    {
     "data": {
      "text/plain": [
       "'ml-1m'"
      ]
     },
     "execution_count": 6,
     "metadata": {},
     "output_type": "execute_result"
    }
   ],
   "source": [
    "datasets[IDX]"
   ]
  },
  {
   "cell_type": "code",
   "execution_count": 7,
   "metadata": {},
   "outputs": [],
   "source": [
    "def find_elbow(data):\n",
    "    rotor = Rotor()\n",
    "    rotor.fit_rotate(data)\n",
    "\n",
    "    return rotor.get_elbow_index()\n",
    "\n",
    "\n",
    "def get_thresholds(x, y):\n",
    "    # smoothing the curve\n",
    "    window_size = max(5, len(y) // 5)\n",
    "    \n",
    "    polynomial_order = 2\n",
    "    smoothed_y = savgol_filter(y, window_size, polynomial_order)\n",
    "    \n",
    "#     smoothed_model = np.poly1d(np.polyfit(x, y, ))\n",
    "#     smoothed_y = smoothed_model(x)\n",
    "    \n",
    "    # computing derivatives\n",
    "    y1 = np.diff(smoothed_y) / np.diff(x)\n",
    "    y2 = np.diff(y1) / np.diff(x)[:-1]\n",
    "    \n",
    "    # searching the inflection point\n",
    "    idx = np.abs(y2).argmin()\n",
    "    \n",
    "#     print(idx)\n",
    "\n",
    "    left_x = x[:idx]\n",
    "    left_y = smoothed_y[:idx]\n",
    "    \n",
    "    left_elbow = find_elbow(np.array(list(zip(left_x, -left_y))))\n",
    "\n",
    "    right_x = x[idx:]\n",
    "    right_y = smoothed_y[idx:]\n",
    "    \n",
    "    right_elbow = find_elbow(np.array(list(zip(right_x, right_y))))\n",
    "\n",
    "    low_thr_x = x[left_elbow]\n",
    "    low_thr_y = y[left_elbow]\n",
    "\n",
    "    high_thr_x = x[right_elbow + idx]\n",
    "    high_thr_y = y[right_elbow + idx]\n",
    "        \n",
    "\n",
    "    return (low_thr_x, low_thr_y), (high_thr_x, high_thr_y)"
   ]
  },
  {
   "cell_type": "code",
   "execution_count": 8,
   "metadata": {},
   "outputs": [],
   "source": [
    "\n",
    "\n",
    "x = list(range(len(f)))\n",
    "y = sorted(f)\n",
    "\n",
    "\n",
    "ts = get_thresholds(x, y)\n",
    "\n",
    "(low_thr_x, low_thr_y), (high_thr_x, high_thr_y) = ts"
   ]
  },
  {
   "cell_type": "code",
   "execution_count": 20,
   "metadata": {},
   "outputs": [],
   "source": [
    "computed_thresholds = [low_thr_y/nusers, high_thr_y/nusers]\n",
    "data[\"thresholds\"] = computed_thresholds"
   ]
  },
  {
   "cell_type": "code",
   "execution_count": 21,
   "metadata": {},
   "outputs": [],
   "source": [
    "import pickle \n",
    "with open(os.path.join(\"../data\", datasets[IDX], \"data_bpr.pickle\"), 'wb') as handle:\n",
    "    pickle.dump(data, handle, protocol=pickle.HIGHEST_PROTOCOL)"
   ]
  },
  {
   "cell_type": "code",
   "execution_count": 10,
   "metadata": {},
   "outputs": [
    {
     "data": {
      "image/png": "[encoded data removed]",
      "text/plain": [
       "<Figure size 800x600 with 1 Axes>"
      ]
     },
     "metadata": {},
     "output_type": "display_data"
    }
   ],
   "source": [
    "fig, ax = plt.subplots(figsize=(8,6))\n",
    "\n",
    "# s = np.repeat(1, len(x))\n",
    "ax.scatter(x, y, s=100)\n",
    "\n",
    "linewidth = 5\n",
    "\n",
    "#plt.vlines(low_thr_x, min(y), low_thr_y, linestyles='dashed', alpha=1, color='black', label=r\"low-popular\", linewidth=linewidth)\n",
    "#plt.hlines(low_thr_y, min(x), low_thr_x, linestyles='dashed', alpha=1, color='black', linewidth=linewidth)\n",
    "#plt.vlines(high_thr_x, min(y), high_thr_y, linestyles='dashed', alpha=1, color='red', label=r\"high-popular\", linewidth=linewidth)\n",
    "#plt.hlines(high_thr_y, min(x), high_thr_x, linestyles='dashed', alpha=1, color='red', linewidth=linewidth)\n",
    "\n",
    "if \"citeulike\" in datasets[IDX]:\n",
    "    plt.xticks(ticks=np.arange(0,16001,4000),labels=[f\"{num}k\" if num!=0 else \"0\" for num in range(0, 17, 4)])\n",
    "elif \"pinterest\" in datasets[IDX]:\n",
    "    plt.xticks(ticks=np.arange(0,10001,2000),labels=[f\"{num}k\" if num!=0 else \"0\" for num in range(0, 11, 2)])\n",
    "elif \"amzn\" in datasets[IDX]:\n",
    "    plt.xticks(ticks=np.arange(0,23001,4000),labels=[f\"{num}k\" if num!=0 else \"0\" for num in range(0, 23, 4)])\n",
    "elif \"ml-1m\" in datasets[IDX]:\n",
    "    plt.xticks(ticks=np.arange(0,3501,1000),labels=[f\"{num}k\" if num!=0 else \"0\" for num in range(0,4,1)])\n",
    "elif \"ml-20m\" in datasets[IDX]:\n",
    "    plt.xticks(ticks=np.arange(0,20001,5000),labels=[f\"{num}k\" if num!=0 else \"0\" for num in range(0, 21, 5)])\n",
    "elif \"epinions\" in datasets[IDX]:\n",
    "    plt.xticks(ticks=np.arange(0,500001,125000),labels=[f\"{num}k\" if num!=0 else \"0\" for num in range(0, 501, 125)])\n",
    "elif \"netflix\" in datasets[IDX]:\n",
    "    plt.xticks(ticks=np.arange(0,15001,5000),labels=[f\"{num}k\" if num!=0 else \"0\" for num in np.arange(0, 16, 5)])\n",
    "elif \"yahoo\" in datasets[IDX]:\n",
    "    plt.xticks(ticks=np.arange(0,1001,250),labels=[\"0\", \"250\", \"500\", \"750\", \"1k\"])\n",
    "    \n",
    "#ax.set_title(titles[datasets[IDX]])\n",
    "\n",
    "ax.set_xlabel(r\"$\\rho$ index\")\n",
    "ax.set_ylabel(\"Popularity\")\n",
    "\n",
    "ax.set_yscale(\"log\")\n",
    "\n",
    "#autosize()\n",
    "if \"citeulike-a\" in datasets[IDX]:\n",
    "    ax.legend(fontsize=25)\n",
    "    \n",
    "fig.tight_layout()\n",
    "# ax.grid()\n",
    "# ax.set_facecolor(\"white\")\n",
    "\n",
    "# SI VOLA\n",
    "\n",
    "fig.savefig(os.path.join(pdf_dir, f\"item_pop_{datasets[IDX]}_without_thresholds.pdf\"))\n",
    "fig.savefig(os.path.join(png_dir, f\"item_pop_{datasets[IDX]}_without_thresholds.png\"), dpi=300)"
   ]
  },
  {
   "cell_type": "code",
   "execution_count": 42,
   "metadata": {},
   "outputs": [
    {
     "data": {
      "text/plain": [
       "116"
      ]
     },
     "execution_count": 42,
     "metadata": {},
     "output_type": "execute_result"
    }
   ],
   "source": [
    "a = np.array(x)\n",
    "b = np.array(y)\n",
    "len(a[b == 1.0])"
   ]
  },
  {
   "cell_type": "code",
   "execution_count": null,
   "metadata": {},
   "outputs": [],
   "source": [
    "frequencies = np.cumsum(to_plot[:, 1][::-1])[::-1]"
   ]
  },
  {
   "cell_type": "code",
   "execution_count": 45,
   "metadata": {
    "scrolled": false
   },
   "outputs": [
    {
     "data": {
      "image/png": "[encoded data removed]",
      "text/plain": [
       "<Figure size 800x600 with 1 Axes>"
      ]
     },
     "metadata": {},
     "output_type": "display_data"
    }
   ],
   "source": [
    "fig, ax = plt.subplots(figsize=(8,6))\n",
    "\n",
    "# s = np.repeat(1, len(x))\n",
    "ax.scatter(x, y, s=20)\n",
    "\n",
    "linewidth = 5\n",
    "\n",
    "plt.vlines(low_thr_x, min(y), low_thr_y, linestyles='dashed', alpha=1, color='black', label=r\"low-popular\", linewidth=linewidth)\n",
    "plt.hlines(low_thr_y, min(x), low_thr_x, linestyles='dashed', alpha=1, color='black', linewidth=linewidth)\n",
    "plt.vlines(high_thr_x, min(y), high_thr_y, linestyles='dashed', alpha=1, color='red', label=r\"high-popular\", linewidth=linewidth)\n",
    "plt.hlines(high_thr_y, min(x), high_thr_x, linestyles='dashed', alpha=1, color='red', linewidth=linewidth)\n",
    "\n",
    "if \"citeulike\" in datasets[IDX]:\n",
    "    plt.xticks(ticks=np.arange(0,16001,4000),labels=[f\"{num}k\" if num!=0 else \"0\" for num in range(0, 17, 4)])\n",
    "elif \"pinterest\" in datasets[IDX]:\n",
    "    plt.xticks(ticks=np.arange(0,10001,2000),labels=[f\"{num}k\" if num!=0 else \"0\" for num in range(0, 11, 2)])\n",
    "elif \"amzn\" in datasets[IDX]:\n",
    "    plt.xticks(ticks=np.arange(0,23001,4000),labels=[f\"{num}k\" if num!=0 else \"0\" for num in range(0, 23, 4)])\n",
    "elif \"ml-1m\" in datasets[IDX]:\n",
    "    plt.xticks(ticks=np.arange(0,3501,1000),labels=[f\"{num}k\" if num!=0 else \"0\" for num in range(0,4,1)])\n",
    "elif \"ml-20m\" in datasets[IDX]:\n",
    "    plt.xticks(ticks=np.arange(0,20001,5000),labels=[f\"{num}k\" if num!=0 else \"0\" for num in range(0, 21, 5)])\n",
    "elif \"epinions\" in datasets[IDX]:\n",
    "    plt.xticks(ticks=np.arange(0,500001,125000),labels=[f\"{num}k\" if num!=0 else \"0\" for num in range(0, 501, 125)])\n",
    "elif \"netflix\" in datasets[IDX]:\n",
    "    plt.xticks(ticks=np.arange(0,15001,5000),labels=[f\"{num}k\" if num!=0 else \"0\" for num in np.arange(0, 16, 5)])\n",
    "elif \"yahoo\" in datasets[IDX]:\n",
    "    plt.xticks(ticks=np.arange(0,1001,250),labels=[\"0\", \"250\", \"500\", \"750\", \"1k\"])\n",
    "    \n",
    "ax.set_title(titles[datasets[IDX]])\n",
    "\n",
    "ax.set_yscale(\"log\")\n",
    "\n",
    "autosize()\n",
    "if \"citeulike-a\" in datasets[IDX]:\n",
    "    ax.legend(fontsize=25)\n",
    "    \n",
    "fig.tight_layout()\n",
    "# ax.grid()\n",
    "# ax.set_facecolor(\"white\")\n",
    "\n",
    "# SI VOLA\n",
    "\n",
    "#fig.savefig(os.path.join(pdf_dir, f\"item_pop_{datasets[IDX]}.pdf\"))\n",
    "#fig.savefig(os.path.join(png_dir, f\"item_pop_{datasets[IDX]}.png\"), dpi=300)"
   ]
  },
  {
   "cell_type": "code",
   "execution_count": 58,
   "metadata": {},
   "outputs": [
    {
     "data": {
      "text/plain": [
       "(array([905, 906]),)"
      ]
     },
     "execution_count": 58,
     "metadata": {},
     "output_type": "execute_result"
    }
   ],
   "source": [
    "np.where(np.array(sorted(f))==285)"
   ]
  },
  {
   "cell_type": "code",
   "execution_count": 57,
   "metadata": {},
   "outputs": [
    {
     "data": {
      "text/plain": [
       "285"
      ]
     },
     "execution_count": 57,
     "metadata": {},
     "output_type": "execute_result"
    }
   ],
   "source": [
    "th_high"
   ]
  },
  {
   "cell_type": "code",
   "execution_count": 59,
   "metadata": {},
   "outputs": [
    {
     "data": {
      "text/plain": [
       "0.9282051282051282"
      ]
     },
     "execution_count": 59,
     "metadata": {},
     "output_type": "execute_result"
    }
   ],
   "source": [
    "905/len(f)"
   ]
  },
  {
   "cell_type": "code",
   "execution_count": 28,
   "metadata": {},
   "outputs": [
    {
     "data": {
      "text/plain": [
       "21800"
      ]
     },
     "execution_count": 28,
     "metadata": {},
     "output_type": "execute_result"
    }
   ],
   "source": [
    "len(f)"
   ]
  },
  {
   "cell_type": "code",
   "execution_count": null,
   "metadata": {},
   "outputs": [],
   "source": []
  }
 ],
 "metadata": {
  "kernelspec": {
   "display_name": "venv",
   "language": "python",
   "name": "venv"
  },
  "language_info": {
   "codemirror_mode": {
    "name": "ipython",
    "version": 3
   },
   "file_extension": ".py",
   "mimetype": "text/x-python",
   "name": "python",
   "nbconvert_exporter": "python",
   "pygments_lexer": "ipython3",
   "version": "3.8.10"
  }
 },
 "nbformat": 4,
 "nbformat_minor": 2
}
